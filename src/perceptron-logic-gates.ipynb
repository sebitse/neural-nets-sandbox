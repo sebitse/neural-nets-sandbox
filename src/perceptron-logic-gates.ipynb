{
 "cells": [
  {
   "cell_type": "markdown",
   "metadata": {},
   "source": [
    "# Simple Perceptron Model"
   ]
  },
  {
   "cell_type": "code",
   "execution_count": 30,
   "metadata": {},
   "outputs": [],
   "source": [
    "# basic import\n",
    "import numpy as np"
   ]
  },
  {
   "cell_type": "code",
   "execution_count": 31,
   "metadata": {},
   "outputs": [],
   "source": [
    "# define step function\n",
    "def step_fc(x):\n",
    "    return 1 if x>= 0 else 0"
   ]
  },
  {
   "cell_type": "code",
   "execution_count": 32,
   "metadata": {},
   "outputs": [],
   "source": [
    "# implement Perceptron class\n",
    "class Perceptron:\n",
    "    def __init__(self, input_size, learning_rate=0.1, epochs=10) -> None:\n",
    "        # define learnable parameters\n",
    "        self.weights = np.random.rand(input_size)\n",
    "        self.bias = np.random.rand(1)\n",
    "        self.learning_rate = learning_rate\n",
    "        self.epochs = epochs\n",
    "        \n",
    "    def train(self, inputs, outputs):\n",
    "        for epoch in range(self.epochs):\n",
    "            print(f\"Epoch: {epoch}\")\n",
    "            for i in range(len(inputs)):\n",
    "                sigma = self.bias + np.dot(inputs[i], self.weights)\n",
    "                predict = step_fc(sigma)\n",
    "                error = outputs[i] - predict\n",
    "                \n",
    "                # update learnable parameters\n",
    "                self.weights += self.learning_rate * error * inputs[i]\n",
    "                self.bias += self.learning_rate * error\n",
    "                print(f\"Input: {inputs[i]}, Predicted: {predict}, Actual: {outputs[i]}\")\n",
    "\n",
    "            print(f\"Weights: {self.weights}, Bias: {self.bias}\\n\")\n",
    "            \n",
    "    def test(self, inputs):\n",
    "        \"\"\"\n",
    "            Predict the output based on the inputs, weights and bias\n",
    "        \"\"\"\n",
    "        results = []\n",
    "        for input_vector in inputs:\n",
    "            sigma = np.dot(input_vector, self.weights) + self.bias\n",
    "            results.append(step_fc(sigma))\n",
    "        return results"
   ]
  },
  {
   "cell_type": "markdown",
   "metadata": {},
   "source": [
    "### Train and Test Perceptron for AND Gate"
   ]
  },
  {
   "cell_type": "code",
   "execution_count": null,
   "metadata": {},
   "outputs": [],
   "source": [
    "print(\"Training Perceptron for AND Gate: \")\n",
    "and_inputs = np.array([[0, 0], [0, 1], [1, 0], [1, 1]])\n",
    "and_outputs = np.array([0, 0, 0, 1])\n",
    "\n",
    "and_perceptron = Perceptron(input_size=2, learning_rate=0.1, epochs=10)\n",
    "and_perceptron.train(and_inputs, and_outputs)"
   ]
  },
  {
   "cell_type": "markdown",
   "metadata": {},
   "source": [
    "### Train and Test Perceptron for OR Gate"
   ]
  },
  {
   "cell_type": "code",
   "execution_count": null,
   "metadata": {},
   "outputs": [],
   "source": [
    "print(\"Training Perceptron for OR Gate: \")\n",
    "or_inputs = np.array([[0, 0], [0, 1], [1, 0], [1, 1]])\n",
    "or_outputs = np.array([0, 1, 1, 1])\n",
    "\n",
    "or_perceptron = Perceptron(input_size=2, learning_rate=0.1, epochs=10)\n",
    "or_perceptron.train(or_inputs, or_outputs)\n",
    "or_test = or_perceptron.test(np.array([[0, 1]]))\n",
    "print(f\"The ouput for (0|1) is: {or_test}\")"
   ]
  }
 ],
 "metadata": {
  "kernelspec": {
   "display_name": "Python 3",
   "language": "python",
   "name": "python3"
  },
  "language_info": {
   "codemirror_mode": {
    "name": "ipython",
    "version": 3
   },
   "file_extension": ".py",
   "mimetype": "text/x-python",
   "name": "python",
   "nbconvert_exporter": "python",
   "pygments_lexer": "ipython3",
   "version": "3.12.8"
  }
 },
 "nbformat": 4,
 "nbformat_minor": 2
}
